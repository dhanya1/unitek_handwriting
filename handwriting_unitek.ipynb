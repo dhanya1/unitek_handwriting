{
 "cells": [
  {
   "cell_type": "markdown",
   "metadata": {},
   "source": [
    "# Opensource Dataset settings:"
   ]
  },
  {
   "cell_type": "code",
   "execution_count": 1,
   "metadata": {},
   "outputs": [],
   "source": [
    "# Define if you want to download data from the original database or use the dataset one already provided and preprocessed\n",
    "# Use:\n",
    "# 'load': If you want to load the datase from the directory\n",
    "# 'download': To download data from the database and process the images\n",
    "dataset_load_method = 'load'\n",
    "\n",
    "# Define if you want to save the dataset to a file\n",
    "save_dataset = False\n",
    "\n",
    "# Define if you want to load the trained classifiers from the directory\n",
    "load_classifiers = False\n",
    "\n",
    "# Define if you want to save the trained classifiers to a file\n",
    "save_classifiers = True\n",
    "\n",
    "# Define if you want to save classification test output to a file\n",
    "save_results = True\n",
    "if (save_results):\n",
    "    result_output_file = open('result_output.txt','w') \n",
    "\n",
    "# Define if you want to print errors and warnings\n",
    "enable_error_output = False"
   ]
  },
  {
   "cell_type": "code",
   "execution_count": 2,
   "metadata": {},
   "outputs": [
    {
     "data": {
      "text/plain": [
       "0"
      ]
     },
     "execution_count": 2,
     "metadata": {},
     "output_type": "execute_result"
    }
   ],
   "source": [
    "import os\n",
    "os.system('pip install plotly')\n",
    "os.system('pip install opencv-contrib-python')"
   ]
  },
  {
   "cell_type": "code",
   "execution_count": 3,
   "metadata": {},
   "outputs": [
    {
     "data": {
      "text/html": [
       "<script>requirejs.config({paths: { 'plotly': ['https://cdn.plot.ly/plotly-latest.min']},});if(!window.Plotly) {{require(['plotly'],function(plotly) {window.Plotly=plotly;});}}</script>"
      ],
      "text/vnd.plotly.v1+html": [
       "<script>requirejs.config({paths: { 'plotly': ['https://cdn.plot.ly/plotly-latest.min']},});if(!window.Plotly) {{require(['plotly'],function(plotly) {window.Plotly=plotly;});}}</script>"
      ]
     },
     "metadata": {},
     "output_type": "display_data"
    }
   ],
   "source": [
    "import numpy as np\n",
    "import matplotlib.pyplot as plt\n",
    "import plotly.offline as py\n",
    "py.init_notebook_mode(connected=True)\n",
    "import plotly.graph_objs as go\n",
    "import plotly.tools as tls\n",
    "import scipy\n",
    "import sklearn\n",
    "import pandas as pd\n",
    "from sklearn import linear_model, datasets, metrics\n",
    "from sklearn.model_selection import train_test_split\n",
    "from sklearn.preprocessing import binarize\n",
    "from sklearn.neural_network import BernoulliRBM, MLPClassifier\n",
    "from sklearn.datasets import fetch_mldata\n",
    "from sklearn.pipeline import Pipeline\n",
    "from sklearn.preprocessing import StandardScaler\n",
    "from sklearn.decomposition import PCA\n",
    "from skimage import data, color, exposure, measure\n",
    "from skimage.transform import resize\n",
    "from skimage.feature import hog\n",
    "from sklearn.manifold import TSNE\n",
    "from sklearn.externals import joblib\n",
    "import urllib\n",
    "from io import StringIO\n",
    "import cv2\n",
    "from scipy import ndimage\n",
    "from difflib import SequenceMatcher\n",
    "from sys import stdout\n",
    "from IPython.display import clear_output"
   ]
  },
  {
   "cell_type": "markdown",
   "metadata": {},
   "source": [
    "Pretty printing the percentage of training/ test function:"
   ]
  },
  {
   "cell_type": "code",
   "execution_count": 4,
   "metadata": {},
   "outputs": [],
   "source": [
    "def print_percentage(prct, msg=None):\n",
    "    if (prct > 100 or prct < 0):\n",
    "        return\n",
    "    clear_output(wait=True)\n",
    "    if (msg == None):\n",
    "        stdout.write(\"Progress: [\")\n",
    "    else:\n",
    "        stdout.write(msg+\" [\")\n",
    "    end = int(int(prct)/10)\n",
    "    for i in range(0, end):\n",
    "        stdout.write(\"=\")\n",
    "    for i in range(end, 10):\n",
    "        stdout.write(\" \")\n",
    "    stdout.write(\"] \"+str(prct)+\"%\")\n",
    "    stdout.flush()"
   ]
  },
  {
   "cell_type": "markdown",
   "metadata": {},
   "source": [
    "# Reading the data in from the CSV"
   ]
  },
  {
   "cell_type": "code",
   "execution_count": 5,
   "metadata": {},
   "outputs": [],
   "source": [
    "df=pd.read_csv('first_and_last_names_fix.csv', sep=',',header=None)"
   ]
  },
  {
   "cell_type": "markdown",
   "metadata": {},
   "source": [
    "Delete any underscore values or underlines to the word"
   ]
  },
  {
   "cell_type": "code",
   "execution_count": 6,
   "metadata": {},
   "outputs": [],
   "source": [
    "# Here we are applying filters and making it clean.\n",
    "def delborders(crop):\n",
    "    cropf = ndimage.gaussian_filter(crop, 0.5)\n",
    "    cropbin = (cropf<0.8)\n",
    "    labeled, nr_objects = ndimage.label(cropbin)\n",
    "    labels_to_delete = []\n",
    "    for i in range(0, labeled.shape[1]):\n",
    "        if (labeled[labeled.shape[0]-1][i] > 0):\n",
    "            labels_to_delete.append(labeled[labeled.shape[0]-1][i])\n",
    "    \n",
    "    label_in_delete = False\n",
    "    for x in range(0, labeled.shape[1]):\n",
    "        for y in range(0, labeled.shape[0]):\n",
    "            label_in_delete = False\n",
    "            for l in range(0, len(labels_to_delete)):\n",
    "                if (labeled[y][x] == labels_to_delete[l]):\n",
    "                    label_in_delete = True\n",
    "            \n",
    "            if(label_in_delete):\n",
    "                crop[y][x] = 1.0\n",
    "    \n",
    "    return crop"
   ]
  },
  {
   "cell_type": "markdown",
   "metadata": {},
   "source": [
    "In this dataset, there is some machine text: \n",
    "The *_getcrop_* function obtains an image from an entry of the database and returns the image in grayscale and cropped to show just the name part.\n",
    "The handwriting data will only have handwriting, so we need not worry about the cropping image. "
   ]
  },
  {
   "cell_type": "code",
   "execution_count": 7,
   "metadata": {},
   "outputs": [],
   "source": [
    "def getcrop(n):\n",
    "    try: \n",
    "        urllib.request.urlretrieve(df[1][n], \"temp.jpg\")\n",
    "    except urllib.error.URLError as e:\n",
    "        return None, False\n",
    "    img = cv2.imread('temp.jpg')\n",
    "    imgh, imgw = img.shape[:-1]\n",
    "    img_rgb = img.copy()\n",
    "    template = cv2.imread('template.png')\n",
    "    h, w = template.shape[:-1]\n",
    "\n",
    "    template_match_success = False\n",
    "    res = cv2.matchTemplate(img_rgb, template, cv2.TM_CCOEFF_NORMED)\n",
    "    threshold = .7\n",
    "    loc = np.where(res >= threshold)\n",
    "    for pt in zip(*loc[::-1]):\n",
    "        print(pt)# Switch collumns and rows\n",
    "        cv2.rectangle(img_rgb, pt, (pt[0] + w, pt[1] + h), (0, 0, 255), 2)\n",
    "        croph1 = pt[1]\n",
    "        croph2 = pt[1]+h\n",
    "        cropw = pt[0] + w\n",
    "        template_match_success = True\n",
    "\n",
    "    if (not template_match_success):\n",
    "        #Template matching has failed so return...\n",
    "        return img, False\n",
    "\n",
    "    if (df[3][n] == 'first' or df[3][n] == 'last'):\n",
    "        crop = img.copy()[max(croph1-6, 0):min(croph2+6, imgh), cropw:imgw]\n",
    "    else:\n",
    "        crop = img.copy()[max(min(croph2+4, imgh-1), 0):imgh, :]\n",
    "        \n",
    "    crop = color.rgb2gray(crop)\n",
    "    if (df[3][n] == 'first_b' or df[3][n] == 'last_b'):\n",
    "        crop = delborders(crop)\n",
    "    return crop, True"
   ]
  },
  {
   "cell_type": "markdown",
   "metadata": {},
   "source": [
    "Next we define the gen_dataset function, this function creates a binarized image list \"_data_\" and a label list \"_labels_\" from the first _n_ entries of the database (if not specified uses all the entries of the database) using the crops of the _getcrop_ function and its corresponding label on that index."
   ]
  },
  {
   "cell_type": "code",
   "execution_count": 8,
   "metadata": {},
   "outputs": [],
   "source": [
    "def gen_dataset(n=df.shape[0]):\n",
    "    data = []\n",
    "    labels = []\n",
    "    for i in range(1, n):\n",
    "        crop, success = getcrop(i)\n",
    "        if (success):\n",
    "            data.append(crop)\n",
    "            labels.append(df[2][i])\n",
    "        else:\n",
    "            if (enable_error_output):\n",
    "                print(\"[WARNING] Template matching has failed for image: \"+str(i))\n",
    "        print_percentage((i*100/(n-1)), \"Fetched \"+str(i)+\" images:\")\n",
    "    \n",
    "    print_percentage(100, \"Fetched \"+str(n-1)+\" images:\")\n",
    "    print(\"\")\n",
    "    print(\"Finished!\")\n",
    "    return data, labels"
   ]
  },
  {
   "cell_type": "markdown",
   "metadata": {},
   "source": [
    "Obtaining the dataset\n",
    "\n",
    "Now we can download and create the whole dataset and its corresponding label list or load the dataset from the saved files. The process takes a while to complete...\n"
   ]
  },
  {
   "cell_type": "code",
   "execution_count": 9,
   "metadata": {},
   "outputs": [],
   "source": [
    "# Obtain dataset from original data if defined (we can define how much data of the \n",
    "# original database we want to use to the function or leave it blank to use all the data)\n",
    "if (dataset_load_method == 'download'):\n",
    "    dataset, labels = gen_dataset(10000)\n",
    "\n",
    "# Load dataset from files\n",
    "if (dataset_load_method == 'load'):\n",
    "    dataset = np.load(\"HandwrittenNames_data.npz\")['data']\n",
    "    labels = np.load(\"HandwrittenNames_labels.npz\")['data']"
   ]
  },
  {
   "cell_type": "markdown",
   "metadata": {},
   "source": [
    "If specified, the generated dataset can be saved to .npz files using these functions."
   ]
  },
  {
   "cell_type": "code",
   "execution_count": 10,
   "metadata": {},
   "outputs": [],
   "source": [
    "# Save dataset to a file if defined\n",
    "if (save_dataset):\n",
    "    np.savez(\"HandwrittenNames_data.npz\", data=dataset)\n",
    "    np.savez(\"HandwrittenNames_labels.npz\", data=labels)"
   ]
  },
  {
   "cell_type": "markdown",
   "metadata": {},
   "source": [
    "We can plot some images and print their corresponding labels to check that everything is correct: "
   ]
  },
  {
   "cell_type": "code",
   "execution_count": 11,
   "metadata": {},
   "outputs": [
    {
     "data": {
      "image/png": "[encoded data removed]",
      "text/plain": [
       "<Figure size 432x288 with 1 Axes>"
      ]
     },
     "metadata": {},
     "output_type": "display_data"
    },
    {
     "name": "stdout",
     "output_type": "stream",
     "text": [
      "HIMELIN\n",
      "<class 'numpy.str_'>\n",
      "<class 'numpy.ndarray'>\n"
     ]
    }
   ],
   "source": [
    "# Change selection to plot a different image and label\n",
    "selection = 0\n",
    "plt.imshow(dataset[selection], cmap='gray')\n",
    "plt.show()\n",
    "print(labels[selection])\n",
    "print(str(type(labels[0])))\n",
    "print(type(dataset[selection]))"
   ]
  },
  {
   "cell_type": "markdown",
   "metadata": {},
   "source": [
    "### get_labels\n",
    "\n",
    "This function labels the connected components in an image by binarizing it and running a clustering method, it returns the labels and the number of labels it detects."
   ]
  },
  {
   "cell_type": "code",
   "execution_count": 12,
   "metadata": {},
   "outputs": [],
   "source": [
    "def get_labels(crop):\n",
    "    img = crop.copy() # gray-scale image\n",
    "\n",
    "    # You could smooth the image (to remove small objects) but we saw better results without using it...\n",
    "    # blur_radius = 0.5\n",
    "    # imgf = ndimage.gaussian_filter(img, blur_radius)\n",
    "\n",
    "    threshold = 0.8\n",
    "\n",
    "    # Find connected components\n",
    "    labeled, nr_objects = ndimage.label(img<threshold) \n",
    "    #print(\"Number of objects is \" +str(nr_objects))\n",
    "\n",
    "    return labeled, nr_objects"
   ]
  },
  {
   "cell_type": "markdown",
   "metadata": {},
   "source": [
    "### get_bboxes\n",
    "\n",
    "This function gets the bounding boxes to cut each character correctly given the labels obtained from get_labels. It returns a list of each character's bounding boxes (2 2D points)."
   ]
  },
  {
   "cell_type": "code",
   "execution_count": 13,
   "metadata": {},
   "outputs": [],
   "source": [
    "def get_bboxes(labeled, nr_objects):\n",
    "    bboxes = np.zeros((nr_objects, 2, 2), dtype='int')\n",
    "\n",
    "    x1, y1, x2, y2 = 0, labeled.shape[0], 0, 0\n",
    "    coord = 0\n",
    "    cont = 0\n",
    "    ytop, ybot = 0, 0\n",
    "    nzero, firstb = False, False\n",
    "\n",
    "    for x in range(0, labeled.shape[1]):\n",
    "        nzero, firstb = False, False\n",
    "        ytop, ybot = 0, 0\n",
    "        for y in range(0, labeled.shape[0]):\n",
    "            if (labeled[y][x] > 0):\n",
    "                nzero = True\n",
    "                if (not firstb):\n",
    "                    ytop = y\n",
    "                    firstb = True\n",
    "                ybot = y\n",
    "\n",
    "        if (nzero):\n",
    "            if (ytop < y1):\n",
    "                y1 = ytop\n",
    "            if (ybot > y2):\n",
    "                y2 = ybot\n",
    "            if (coord == 0):\n",
    "                x1 = x\n",
    "                coord = 1\n",
    "            elif (coord == 1):\n",
    "                x2 = x\n",
    "        elif ((not nzero) and (coord == 1)):\n",
    "            bboxes[cont][0] = [x1, y1]\n",
    "            bboxes[cont][1] = [x2, y2]\n",
    "            cont += 1\n",
    "            coord = 0\n",
    "            x1, y1, x2, y2 = 0, labeled.shape[0], 0, 0\n",
    "\n",
    "    bboxes = bboxes[0:cont]\n",
    "    return bboxes, cont"
   ]
  },
  {
   "cell_type": "markdown",
   "metadata": {},
   "source": [
    "### crop_characters\n",
    "\n",
    "Given an image and character bounding boxes this function crops each character in an image and returns each character's corresponding binarized image in a list."
   ]
  },
  {
   "cell_type": "code",
   "execution_count": 14,
   "metadata": {},
   "outputs": [],
   "source": [
    "def crop_characters(img, bboxes, n):\n",
    "    characters = []\n",
    "    for i in range(0, n):\n",
    "        c = img.copy()[bboxes[i][0][1]:bboxes[i][1][1], bboxes[i][0][0]:bboxes[i][1][0]]\n",
    "        if (c.shape[0] != 0 and c.shape[1] != 0):\n",
    "            c = resize(c, (28, 28), mode='constant', cval=1.0, clip=True)\n",
    "            characters.append((c<0.80).reshape(784))\n",
    "    return characters, len(characters)"
   ]
  },
  {
   "cell_type": "markdown",
   "metadata": {},
   "source": [
    "### labelsep\n",
    "\n",
    "Separates a full name label into a character list. Useful for the training part to have the labels of each character."
   ]
  },
  {
   "cell_type": "code",
   "execution_count": 15,
   "metadata": {},
   "outputs": [],
   "source": [
    "def labelsep(label):\n",
    "    if (type(label) is str or type(label) is np.str_):\n",
    "        decomposed_label = list(label)\n",
    "        labels = []\n",
    "        for i in range(0, len(decomposed_label)):\n",
    "            if (decomposed_label[i] != ' '):\n",
    "                labels.append(decomposed_label[i])\n",
    "        return labels\n",
    "    else:\n",
    "        return []"
   ]
  },
  {
   "cell_type": "markdown",
   "metadata": {},
   "source": [
    "### get_characters\n",
    "\n",
    "Given an image from the dataset and its label this function splits each character into one image and a label. The img_only variant doesn't return the labels (useful when testing with full names to save some memory and time)."
   ]
  },
  {
   "cell_type": "code",
   "execution_count": 16,
   "metadata": {},
   "outputs": [],
   "source": [
    "def get_characters(image, label):\n",
    "    labeled, nr_objects = get_labels(image)\n",
    "    bboxes, n = get_bboxes(labeled, nr_objects)\n",
    "    characters, n_chars = crop_characters(image, bboxes, n)\n",
    "    labels = labelsep(label)\n",
    "    return characters, labels[0:n_chars]\n",
    "\n",
    "def get_characters_img_only(image):\n",
    "    labeled, nr_objects = get_labels(image)\n",
    "    bboxes, n = get_bboxes(labeled, nr_objects)\n",
    "    characters, n_chars = crop_characters(image, bboxes, n)\n",
    "    return characters"
   ]
  },
  {
   "cell_type": "markdown",
   "metadata": {},
   "source": [
    "We can check if it extracts correctly all the data with these plots and prints"
   ]
  },
  {
   "cell_type": "code",
   "execution_count": 17,
   "metadata": {},
   "outputs": [
    {
     "data": {
      "image/png": "[encoded data removed]",
      "text/plain": [
       "<Figure size 432x288 with 1 Axes>"
      ]
     },
     "metadata": {},
     "output_type": "display_data"
    },
    {
     "name": "stdout",
     "output_type": "stream",
     "text": [
      "ROBIN\n"
     ]
    }
   ],
   "source": [
    "selection = 1\n",
    "plt.imshow(dataset[selection], cmap='gray')\n",
    "plt.show()\n",
    "print(labels[selection])"
   ]
  },
  {
   "cell_type": "code",
   "execution_count": 18,
   "metadata": {},
   "outputs": [
    {
     "name": "stderr",
     "output_type": "stream",
     "text": [
      "/users/mscdsa2018/dsj1/fast_rcnn/lib/python3.5/site-packages/skimage/transform/_warps.py:110: UserWarning:\n",
      "\n",
      "Anti-aliasing will be enabled by default in skimage 0.15 to avoid aliasing artifacts when down-sampling images.\n",
      "\n"
     ]
    }
   ],
   "source": [
    "characters, charlabels = get_characters(dataset[selection], labels[selection])"
   ]
  },
  {
   "cell_type": "code",
   "execution_count": 19,
   "metadata": {},
   "outputs": [
    {
     "data": {
      "image/png": "[encoded data removed]",
      "text/plain": [
       "<Figure size 432x288 with 1 Axes>"
      ]
     },
     "metadata": {},
     "output_type": "display_data"
    },
    {
     "data": {
      "image/png": "[encoded data removed]",
      "text/plain": [
       "<Figure size 432x288 with 1 Axes>"
      ]
     },
     "metadata": {},
     "output_type": "display_data"
    },
    {
     "data": {
      "image/png": "[encoded data removed]",
      "text/plain": [
       "<Figure size 432x288 with 1 Axes>"
      ]
     },
     "metadata": {},
     "output_type": "display_data"
    },
    {
     "data": {
      "image/png": "[encoded data removed]",
      "text/plain": [
       "<Figure size 432x288 with 1 Axes>"
      ]
     },
     "metadata": {},
     "output_type": "display_data"
    },
    {
     "data": {
      "image/png": "[encoded data removed]",
      "text/plain": [
       "<Figure size 432x288 with 1 Axes>"
      ]
     },
     "metadata": {},
     "output_type": "display_data"
    },
    {
     "name": "stdout",
     "output_type": "stream",
     "text": [
      "['R', 'O', 'B', 'I', 'N']\n"
     ]
    }
   ],
   "source": [
    "for i in range(0, len(characters)):\n",
    "    plt.imshow(characters[i].reshape(28,28), cmap='gray')\n",
    "    plt.show()\n",
    "    \n",
    "print(str(charlabels))"
   ]
  },
  {
   "cell_type": "code",
   "execution_count": 20,
   "metadata": {},
   "outputs": [],
   "source": [
    "# Define if we want to print status of the training process\n",
    "verbose_classifiers = True"
   ]
  },
  {
   "cell_type": "markdown",
   "metadata": {},
   "source": [
    "## Defining our model\n",
    "\n",
    "Multi-layer perceptron (will be trained with PCA features later on)\n"
   ]
  },
  {
   "cell_type": "code",
   "execution_count": 21,
   "metadata": {},
   "outputs": [],
   "source": [
    "# MLP Classifier with PCA (Principal Component Analisis) features\n",
    "mlp_classifier_PCA = MLPClassifier(hidden_layer_sizes=(300,400,150), max_iter=5000, tol=0.0001, random_state=1, verbose=verbose_classifiers)"
   ]
  },
  {
   "cell_type": "markdown",
   "metadata": {},
   "source": [
    "### Splitting the dataset into train and test batches\n",
    "\n",
    "We divide the dataset into 80% train 20% test batches:"
   ]
  },
  {
   "cell_type": "code",
   "execution_count": 22,
   "metadata": {},
   "outputs": [],
   "source": [
    "X_train, X_test, Y_train, Y_test = train_test_split(dataset, labels, test_size=0.2, random_state=0)"
   ]
  },
  {
   "cell_type": "code",
   "execution_count": 23,
   "metadata": {},
   "outputs": [
    {
     "name": "stdout",
     "output_type": "stream",
     "text": [
      "Train batch lenghts:\n",
      "X_train size: 7985\n",
      "Y_train size: 7985\n",
      "\n",
      "Test batch lenghts:\n",
      "X_test size: 1997\n",
      "Y_test size: 1997\n"
     ]
    }
   ],
   "source": [
    "print(\"Train batch lenghts:\")\n",
    "print(\"X_train size: \"+str(len(X_train)))\n",
    "print(\"Y_train size: \"+str(len(Y_train)))\n",
    "print(\"\")\n",
    "print(\"Test batch lenghts:\")\n",
    "print(\"X_test size: \"+str(len(X_test)))\n",
    "print(\"Y_test size: \"+str(len(Y_test)))"
   ]
  },
  {
   "cell_type": "markdown",
   "metadata": {},
   "source": [
    "### Processing the train and test batches for characters\n",
    "\n",
    "We process the train and test batches to divide the batches into single character batches instead of full names,\n",
    "this is needed to train and will be useful in case of the test to test per character precision later on"
   ]
  },
  {
   "cell_type": "code",
   "execution_count": 24,
   "metadata": {},
   "outputs": [
    {
     "name": "stdout",
     "output_type": "stream",
     "text": [
      "Processing train image 7985 : [==========] 100%\n",
      "94.16405760801503% of the data in train batch correctly extracted.\n"
     ]
    }
   ],
   "source": [
    "X_train_chars = []\n",
    "Y_train_chars = []\n",
    "Train_with_inconsistencies = []\n",
    "z = 0\n",
    "for i in range(0, len(X_train)):\n",
    "    print_percentage(i*100/len(X_train), \"Processing train image \"+ str(i)+\" :\")\n",
    "    characters, charlabels = get_characters(X_train[i], Y_train[i])\n",
    "    if (len(characters) != len(charlabels) or len(characters) == 0 or len(charlabels) == 0):\n",
    "        if (enable_error_output):\n",
    "            print(\"[Warning] Input number \"+str(i)+\" inconsistent! Skipping this one...\")\n",
    "        Train_with_inconsistencies.append(i)\n",
    "        z += 1\n",
    "    else:\n",
    "        X_train_chars.extend(characters)\n",
    "        Y_train_chars.extend(charlabels)\n",
    "\n",
    "print_percentage(100, \"Processing train image \"+ str(len(X_train))+\" :\")\n",
    "print(\"\")\n",
    "print(str(100-(z*100/len(X_train)))+\"% of the data in train batch correctly extracted.\")"
   ]
  },
  {
   "cell_type": "code",
   "execution_count": 25,
   "metadata": {},
   "outputs": [
    {
     "name": "stdout",
     "output_type": "stream",
     "text": [
      "Processing train image 1997 : [==========] 100%\n",
      "94.04106159238859% of the data in test batch correctly extracted.\n"
     ]
    }
   ],
   "source": [
    "X_test_chars = []\n",
    "Y_test_chars = []\n",
    "Test_without_inconsistencies = []\n",
    "z = 0\n",
    "for i in range(0, len(X_test)):\n",
    "    print_percentage(i*100/len(X_test), \"Processing test image \"+ str(i)+\" :\")\n",
    "    characters, charlabels = get_characters(X_test[i], Y_test[i])\n",
    "    if (len(characters) != len(charlabels) or len(characters) == 0 or len(charlabels) == 0):\n",
    "        if (enable_error_output):\n",
    "            print(\"[Warning] Input number \"+str(i)+\" inconsistent! Skipping this one...\")\n",
    "        z += 1\n",
    "    else:\n",
    "        X_test_chars.extend(characters)\n",
    "        Y_test_chars.extend(charlabels)\n",
    "        Test_without_inconsistencies.append(i)\n",
    "\n",
    "print_percentage(100, \"Processing train image \"+ str(len(X_test))+\" :\")\n",
    "print(\"\")\n",
    "print(str(100-(z*100/len(X_test)))+\"% of the data in test batch correctly extracted.\")"
   ]
  },
  {
   "cell_type": "code",
   "execution_count": 26,
   "metadata": {},
   "outputs": [
    {
     "name": "stdout",
     "output_type": "stream",
     "text": [
      "Character splitted train batch lenghts:\n",
      "X_train_chars size: 43802\n",
      "Y_train_chars size: 43802\n"
     ]
    }
   ],
   "source": [
    "print(\"Character splitted train batch lenghts:\")\n",
    "print(\"X_train_chars size: \"+str(len(X_train_chars)))\n",
    "print(\"Y_train_chars size: \"+str(len(Y_train_chars)))"
   ]
  },
  {
   "cell_type": "markdown",
   "metadata": {},
   "source": [
    "### Transform the data to extract Principal Component Analysis features\n",
    "\n",
    "We transform the data to extract Principal Component Analysis features for the MLP_PCA classifier."
   ]
  },
  {
   "cell_type": "code",
   "execution_count": 27,
   "metadata": {},
   "outputs": [],
   "source": [
    "# Standardising the values\n",
    "Scaler = StandardScaler().fit(X_train_chars)\n",
    "X_pca_train = Scaler.transform(X_train_chars)\n",
    "# Call the PCA method with 100 components. \n",
    "pca = PCA(n_components=100)\n",
    "pca.fit(X_pca_train)\n",
    "P_train = pca.transform(X_pca_train)\n",
    "\n",
    "# Standardising the values\n",
    "X_pca_test = Scaler.transform(X_test_chars)\n",
    "\n",
    "# Call the PCA method with 100 components. \n",
    "P_test = pca.transform(X_pca_test)"
   ]
  },
  {
   "cell_type": "code",
   "execution_count": 28,
   "metadata": {},
   "outputs": [],
   "source": [
    "# We also define a function in case we need to transform something later\n",
    "def PCA_transform(chars):\n",
    "    # Standardising the values\n",
    "    X_pca = Scaler.transform(chars)\n",
    "\n",
    "    # Call the PCA method with 100 components. \n",
    "    P = pca.transform(X_pca)\n",
    "    return P"
   ]
  },
  {
   "cell_type": "markdown",
   "metadata": {},
   "source": [
    "### Training/loading classifiers\n",
    "\n",
    "We feed the train characters and train character labels to each classifier or load the already trained classifiers from files"
   ]
  },
  {
   "cell_type": "code",
   "execution_count": 29,
   "metadata": {},
   "outputs": [
    {
     "name": "stdout",
     "output_type": "stream",
     "text": [
      "Iteration 1, loss = 0.66202481\n",
      "Iteration 2, loss = 0.36720914\n",
      "Iteration 3, loss = 0.29512072\n",
      "Iteration 4, loss = 0.24631425\n",
      "Iteration 5, loss = 0.20192125\n",
      "Iteration 6, loss = 0.16924244\n",
      "Iteration 7, loss = 0.13802454\n",
      "Iteration 8, loss = 0.10699425\n",
      "Iteration 9, loss = 0.08901338\n",
      "Iteration 10, loss = 0.06992461\n",
      "Iteration 11, loss = 0.05742846\n",
      "Iteration 12, loss = 0.04488643\n",
      "Iteration 13, loss = 0.04091145\n",
      "Iteration 14, loss = 0.03771724\n",
      "Iteration 15, loss = 0.03844675\n",
      "Iteration 16, loss = 0.04194183\n",
      "Iteration 17, loss = 0.03309565\n",
      "Iteration 18, loss = 0.04131601\n",
      "Iteration 19, loss = 0.03087971\n",
      "Iteration 20, loss = 0.02715498\n",
      "Iteration 21, loss = 0.02328126\n",
      "Iteration 22, loss = 0.02685835\n",
      "Iteration 23, loss = 0.02981081\n",
      "Iteration 24, loss = 0.03414911\n",
      "Training loss did not improve more than tol=0.000100 for two consecutive epochs. Stopping.\n"
     ]
    }
   ],
   "source": [
    "if (not load_classifiers):\n",
    "    mlp_classifier_PCA.fit(P_train,Y_train_chars)\n",
    "else:\n",
    "    mlp_classifier_PCA = joblib.load('MLP_PCA.pkl')"
   ]
  },
  {
   "cell_type": "markdown",
   "metadata": {},
   "source": [
    "### Saving the classifiers\n",
    "\n",
    "If enabled, this will save the trained models to files."
   ]
  },
  {
   "cell_type": "code",
   "execution_count": 30,
   "metadata": {},
   "outputs": [],
   "source": [
    "# Save the classifiers if enabled:\n",
    "if (save_classifiers):\n",
    "    joblib.dump(mlp_classifier_PCA, 'MLP_PCA.pkl')\n"
   ]
  },
  {
   "cell_type": "markdown",
   "metadata": {},
   "source": [
    "### Functions for testing results later\n",
    "\n",
    "predict_full_name given a full name image and a classifier divides the image into characters and asks the classifier to predict it, afterwards chains the predictions of each characters into a full string."
   ]
  },
  {
   "cell_type": "code",
   "execution_count": 31,
   "metadata": {},
   "outputs": [],
   "source": [
    "# transform should be 'hog' for MLP_HOG classifier and 'pca' for MLP_PCA classifier, otherwise None\n",
    "def predict_full_name(name, classifier, transform=None):\n",
    "    characters = get_characters_img_only(name)\n",
    "    if (transform == 'pca'):\n",
    "        prediction = classifier.predict(PCA_transform(characters))\n",
    "    else:\n",
    "        prediction = classifier.predict(characters)\n",
    "    strg = ''\n",
    "    for i in range(0, len(prediction)):\n",
    "        strg = strg+prediction[i]\n",
    "    return strg"
   ]
  },
  {
   "cell_type": "markdown",
   "metadata": {},
   "source": [
    "predict_full_names gets the prediction for each consistent test data and returns the correct ratio and correlation ratio."
   ]
  },
  {
   "cell_type": "code",
   "execution_count": 32,
   "metadata": {},
   "outputs": [],
   "source": [
    "# transform should be 'hog' for MLP_HOG classifier and 'pca' for MLP_PCA classifier, otherwise None\n",
    "def predict_full_names(classifier, transform=None):\n",
    "    correlation=0.0\n",
    "    correct = 0\n",
    "    for i in range(0,len(Test_without_inconsistencies)):\n",
    "        predicted_name = predict_full_name(X_test[Test_without_inconsistencies[i]], classifier, transform)\n",
    "        if (predicted_name == Y_test[Test_without_inconsistencies[i]]):\n",
    "            correct += 1\n",
    "        correlation += similar(predicted_name, Y_test[Test_without_inconsistencies[i]])\n",
    "        print_percentage(i*100/len(X_test),\"Making predictions \"+str(i)+\"/\"+str(len(X_test))+\":\")\n",
    "    print_percentage(100,\"Making predictions \"+str(len(X_test))+\"/\"+str(len(X_test))+\":\")\n",
    "    return (correct/len(Test_without_inconsistencies)), (correlation/len(Test_without_inconsistencies))"
   ]
  },
  {
   "cell_type": "code",
   "execution_count": 33,
   "metadata": {},
   "outputs": [],
   "source": [
    "def similar(a,b):\n",
    "        return SequenceMatcher(None,a,b).ratio()"
   ]
  },
  {
   "cell_type": "markdown",
   "metadata": {},
   "source": [
    "### Testing character recognintion\n",
    "\n",
    "We will test now individual character recognition scores for each classifier using the test batch."
   ]
  },
  {
   "cell_type": "code",
   "execution_count": 34,
   "metadata": {},
   "outputs": [],
   "source": [
    "mlp_prediction_PCA = mlp_classifier_PCA.predict(P_test)"
   ]
  },
  {
   "cell_type": "code",
   "execution_count": 35,
   "metadata": {},
   "outputs": [
    {
     "name": "stdout",
     "output_type": "stream",
     "text": [
      "PCA + MLP classification:\n",
      "             precision    recall  f1-score   support\n",
      "\n",
      "          -       0.59      0.42      0.49        24\n",
      "          A       0.96      0.90      0.93      1686\n",
      "          B       0.73      0.85      0.78        98\n",
      "          C       0.89      0.93      0.91       305\n",
      "          D       0.88      0.82      0.85       183\n",
      "          E       0.95      0.94      0.95      1471\n",
      "          F       0.65      0.61      0.63        61\n",
      "          G       0.91      0.80      0.85       110\n",
      "          H       0.77      0.87      0.82       327\n",
      "          I       0.91      0.91      0.91       979\n",
      "          J       0.77      0.92      0.84       109\n",
      "          K       0.74      0.81      0.77        48\n",
      "          L       0.94      0.96      0.95      1000\n",
      "          M       0.86      0.87      0.86       571\n",
      "          N       0.94      0.91      0.93      1060\n",
      "          O       0.92      0.93      0.92       598\n",
      "          P       0.70      0.82      0.75        93\n",
      "          Q       0.82      0.64      0.72        14\n",
      "          R       0.88      0.90      0.89       537\n",
      "          S       0.96      0.90      0.93       402\n",
      "          T       0.90      0.97      0.93       518\n",
      "          U       0.90      0.90      0.90       374\n",
      "          V       0.84      0.78      0.81       105\n",
      "          W       0.58      0.79      0.67        38\n",
      "          X       0.85      0.89      0.87       102\n",
      "          Y       0.91      0.88      0.89       163\n",
      "          Z       0.78      0.84      0.81        37\n",
      "\n",
      "avg / total       0.91      0.91      0.91     11013\n",
      "\n",
      "\n"
     ]
    }
   ],
   "source": [
    "print(\"PCA + MLP classification:\\n%s\\n\" % (metrics.classification_report(Y_test_chars, mlp_prediction_PCA)))\n",
    "\n",
    "if (save_results):\n",
    "    result_output_file.write(\"\\nPCA + MLP classification:\\n%s\\n\" % (metrics.classification_report(Y_test_chars, mlp_prediction_PCA)))\n",
    "    "
   ]
  },
  {
   "cell_type": "markdown",
   "metadata": {},
   "source": [
    "### Testing full name recognition\n",
    "\n",
    "We will test now full name recognition scores using the consistent test batch."
   ]
  },
  {
   "cell_type": "code",
   "execution_count": 36,
   "metadata": {},
   "outputs": [
    {
     "name": "stdout",
     "output_type": "stream",
     "text": [
      "Making predictions 1997/1997: [==========] 100%"
     ]
    }
   ],
   "source": [
    "correct_mlp_PCA, corr_mlp_PCA = predict_full_names(mlp_classifier_PCA, 'pca')"
   ]
  },
  {
   "cell_type": "code",
   "execution_count": 37,
   "metadata": {},
   "outputs": [
    {
     "name": "stdout",
     "output_type": "stream",
     "text": [
      "Full name test results: \n",
      "========================================================================\n",
      "| Classifier            | Correct percentage      | Correlation ratio  |\n",
      "========================================================================\n",
      "| MLP with PCA features | 0.6283280085197018     | 0.9115995563800039 |\n",
      "========================================================================\n"
     ]
    }
   ],
   "source": [
    "print(\"Full name test results: \")\n",
    "print(\"========================================================================\")\n",
    "print(\"| Classifier            | Correct percentage      | Correlation ratio  |\")\n",
    "print(\"========================================================================\")\n",
    "print(\"| MLP with PCA features | \"+str(correct_mlp_PCA)+\"     | \"+str(corr_mlp_PCA)+\" |\")\n",
    "print(\"========================================================================\")\n",
    "\n",
    "if (save_results):\n",
    "    result_output_file.write(\"\\n\\nFull name test results: \")\n",
    "    result_output_file.write(\"\\n========================================================================\")\n",
    "    result_output_file.write(\"\\n| Classifier            | Correct percentage      | Correlation ratio  |\")\n",
    "    result_output_file.write(\"\\n========================================================================\")\n",
    "    result_output_file.write(\"\\n| MLP with PCA features | \"+str(correct_mlp_PCA)+\"     | \"+str(corr_mlp_PCA)+\" |\")\n",
    "    result_output_file.write(\"\\n========================================================================\")"
   ]
  },
  {
   "cell_type": "markdown",
   "metadata": {},
   "source": [
    "### Visual testing\n",
    "\n",
    "We can see some predictions visually here by adding indexes to the \"indexes\" list and for each test data selected in \"indexes\" we will see the predictions of each classifier."
   ]
  },
  {
   "cell_type": "code",
   "execution_count": 38,
   "metadata": {},
   "outputs": [
    {
     "name": "stdout",
     "output_type": "stream",
     "text": [
      "> Image:\n"
     ]
    },
    {
     "name": "stderr",
     "output_type": "stream",
     "text": [
      "/users/mscdsa2018/dsj1/fast_rcnn/lib/python3.5/site-packages/skimage/transform/_warps.py:110: UserWarning:\n",
      "\n",
      "Anti-aliasing will be enabled by default in skimage 0.15 to avoid aliasing artifacts when down-sampling images.\n",
      "\n"
     ]
    },
    {
     "data": {
      "image/png": "[encoded data removed]",
      "text/plain": [
       "<Figure size 432x288 with 1 Axes>"
      ]
     },
     "metadata": {},
     "output_type": "display_data"
    },
    {
     "name": "stdout",
     "output_type": "stream",
     "text": [
      "MLP with PCA features predicted: BABTIEN\n",
      "\n",
      "> Image:\n"
     ]
    },
    {
     "data": {
      "image/png": "[encoded data removed]",
      "text/plain": [
       "<Figure size 432x288 with 1 Axes>"
      ]
     },
     "metadata": {},
     "output_type": "display_data"
    },
    {
     "name": "stdout",
     "output_type": "stream",
     "text": [
      "MLP with PCA features predicted: MATTHIEU\n",
      "\n",
      "> Image:\n"
     ]
    },
    {
     "data": {
      "image/png": "[encoded data removed]",
      "text/plain": [
       "<Figure size 432x288 with 1 Axes>"
      ]
     },
     "metadata": {},
     "output_type": "display_data"
    },
    {
     "name": "stdout",
     "output_type": "stream",
     "text": [
      "MLP with PCA features predicted: TSSA\n",
      "\n",
      "> Image:\n"
     ]
    },
    {
     "data": {
      "image/png": "[encoded data removed]",
      "text/plain": [
       "<Figure size 432x288 with 1 Axes>"
      ]
     },
     "metadata": {},
     "output_type": "display_data"
    },
    {
     "name": "stdout",
     "output_type": "stream",
     "text": [
      "MLP with PCA features predicted: AYMERIC\n",
      "\n",
      "> Image:\n"
     ]
    },
    {
     "data": {
      "image/png": "[encoded data removed]",
      "text/plain": [
       "<Figure size 432x288 with 1 Axes>"
      ]
     },
     "metadata": {},
     "output_type": "display_data"
    },
    {
     "name": "stdout",
     "output_type": "stream",
     "text": [
      "MLP with PCA features predicted: ELSA\n",
      "\n"
     ]
    }
   ],
   "source": [
    "indexes = [8, 10, 12, 14, 16]\n",
    "for ind in indexes:\n",
    "    mlp_pca_predict = predict_full_name(X_test[ind], mlp_classifier_PCA, 'pca')\n",
    "    \n",
    "    print(\"> Image:\")\n",
    "    plt.imshow(X_test[ind], cmap='gray')\n",
    "    plt.show()\n",
    "    print(\"MLP with PCA features predicted: \"+mlp_pca_predict)\n",
    "    print(\"\")\n",
    "    \n",
    "    if (save_results):\n",
    "        result_output_file.write(\"\\n\\n> Real label: \"+Y_test[ind])\n",
    "        result_output_file.write(\"\\nMLP with PCA features predicted: \"+mlp_pca_predict)\n",
    "        result_output_file.write(\"\\n\")"
   ]
  },
  {
   "cell_type": "markdown",
   "metadata": {},
   "source": [
    "## Saving this trained model for further usage."
   ]
  },
  {
   "cell_type": "code",
   "execution_count": 39,
   "metadata": {},
   "outputs": [],
   "source": [
    "if (save_results):\n",
    "    result_output_file.close()"
   ]
  },
  {
   "cell_type": "code",
   "execution_count": 40,
   "metadata": {},
   "outputs": [
    {
     "data": {
      "text/plain": [
       "['name_recognizer.pkl']"
      ]
     },
     "execution_count": 40,
     "metadata": {},
     "output_type": "execute_result"
    }
   ],
   "source": [
    "from sklearn.externals import joblib\n",
    "joblib.dump(mlp_classifier_PCA, 'name_recognizer.pkl') "
   ]
  },
  {
   "cell_type": "markdown",
   "metadata": {},
   "source": [
    "## Reading custom input"
   ]
  },
  {
   "cell_type": "code",
   "execution_count": 41,
   "metadata": {},
   "outputs": [
    {
     "name": "stdout",
     "output_type": "stream",
     "text": [
      "<class 'numpy.ndarray'>\n"
     ]
    },
    {
     "data": {
      "image/png": "[encoded data removed]",
      "text/plain": [
       "<Figure size 432x288 with 1 Axes>"
      ]
     },
     "metadata": {},
     "output_type": "display_data"
    },
    {
     "data": {
      "image/png": "[encoded data removed]",
      "text/plain": [
       "<Figure size 432x288 with 1 Axes>"
      ]
     },
     "metadata": {},
     "output_type": "display_data"
    }
   ],
   "source": [
    "names_recog = joblib.load('name_recognizer.pkl')\n",
    "img = cv2.imread('train1.jpg',0)\n",
    "img = delborders(img)\n",
    "print(type(img))\n",
    "plt.imshow(img,cmap='gray')\n",
    "plt.show()\n",
    "img = cv2.imread('train1.jpg',0)\n",
    "img = delborders(img)\n",
    "plt.imshow(img,cmap='gray')\n",
    "plt.show()"
   ]
  },
  {
   "cell_type": "code",
   "execution_count": 42,
   "metadata": {},
   "outputs": [
    {
     "data": {
      "image/png": "[encoded data removed]",
      "text/plain": [
       "<Figure size 432x288 with 1 Axes>"
      ]
     },
     "metadata": {},
     "output_type": "display_data"
    },
    {
     "data": {
      "image/png": "[encoded data removed]",
      "text/plain": [
       "<Figure size 432x288 with 1 Axes>"
      ]
     },
     "metadata": {},
     "output_type": "display_data"
    }
   ],
   "source": [
    "from skimage.filters import try_all_threshold, threshold_isodata\n",
    "img = cv2.imread('train2.jpg',0)\n",
    "th = threshold_isodata(img, nbins=256, return_all=False)\n",
    "image = img > th\n",
    "plt.imshow(image,cmap='gray')\n",
    "plt.show()\n",
    "img2 = cv2.imread('train1.jpg',0)\n",
    "th2 = threshold_isodata(img2, nbins=256, return_all=False)\n",
    "image2 = img2 > th2\n",
    "plt.imshow(image2,cmap='gray')\n",
    "plt.show()\n"
   ]
  },
  {
   "cell_type": "code",
   "execution_count": 43,
   "metadata": {},
   "outputs": [
    {
     "name": "stderr",
     "output_type": "stream",
     "text": [
      "/users/mscdsa2018/dsj1/fast_rcnn/lib/python3.5/site-packages/skimage/transform/_warps.py:110: UserWarning:\n",
      "\n",
      "Anti-aliasing will be enabled by default in skimage 0.15 to avoid aliasing artifacts when down-sampling images.\n",
      "\n"
     ]
    },
    {
     "name": "stdout",
     "output_type": "stream",
     "text": [
      "TMARTJRI\n",
      "ETEUIAIYA\n"
     ]
    }
   ],
   "source": [
    "# For filtered image\n",
    "names_recog = joblib.load('name_recognizer.pkl')\n",
    "mlp_pca_predict = predict_full_name(image, names_recog, 'pca')\n",
    "print(mlp_pca_predict)\n",
    "\n",
    "# For filtered image\n",
    "mlp_pca_predict1 = predict_full_name(image2, names_recog, 'pca')\n",
    "print(mlp_pca_predict1)"
   ]
  }
 ],
 "metadata": {
  "kernelspec": {
   "display_name": "handwriting",
   "language": "python",
   "name": "handwriting"
  },
  "language_info": {
   "codemirror_mode": {
    "name": "ipython",
    "version": 3
   },
   "file_extension": ".py",
   "mimetype": "text/x-python",
   "name": "python",
   "nbconvert_exporter": "python",
   "pygments_lexer": "ipython3",
   "version": "3.5.2"
  }
 },
 "nbformat": 4,
 "nbformat_minor": 2
}
